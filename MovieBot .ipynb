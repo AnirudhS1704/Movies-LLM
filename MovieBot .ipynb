{
  "nbformat": 4,
  "nbformat_minor": 0,
  "metadata": {
    "colab": {
      "provenance": [],
      "gpuType": "T4"
    },
    "kernelspec": {
      "name": "python3",
      "display_name": "Python 3"
    },
    "language_info": {
      "name": "python"
    },
    "accelerator": "GPU",
    "widgets": {
      "application/vnd.jupyter.widget-state+json": {
        "de8121ac8e634a39a58a1089c57e74d8": {
          "model_module": "@jupyter-widgets/controls",
          "model_name": "HBoxModel",
          "model_module_version": "1.5.0",
          "state": {
            "_dom_classes": [],
            "_model_module": "@jupyter-widgets/controls",
            "_model_module_version": "1.5.0",
            "_model_name": "HBoxModel",
            "_view_count": null,
            "_view_module": "@jupyter-widgets/controls",
            "_view_module_version": "1.5.0",
            "_view_name": "HBoxView",
            "box_style": "",
            "children": [
              "IPY_MODEL_a9d8073b89044f6c8d2c54490fec5dae",
              "IPY_MODEL_a0da04ec9da74d44a93e853d331a3397",
              "IPY_MODEL_7ab5bbef3fcb42b5b2f8c635a6575294"
            ],
            "layout": "IPY_MODEL_ef519f07a6ed4c80ad0a37ffd5452b10"
          }
        },
        "a9d8073b89044f6c8d2c54490fec5dae": {
          "model_module": "@jupyter-widgets/controls",
          "model_name": "HTMLModel",
          "model_module_version": "1.5.0",
          "state": {
            "_dom_classes": [],
            "_model_module": "@jupyter-widgets/controls",
            "_model_module_version": "1.5.0",
            "_model_name": "HTMLModel",
            "_view_count": null,
            "_view_module": "@jupyter-widgets/controls",
            "_view_module_version": "1.5.0",
            "_view_name": "HTMLView",
            "description": "",
            "description_tooltip": null,
            "layout": "IPY_MODEL_bcb8c0353e494935bcf5ebf064225643",
            "placeholder": "​",
            "style": "IPY_MODEL_3e713247fc0f433e88aafded3d3a0756",
            "value": "Loading checkpoint shards: 100%"
          }
        },
        "a0da04ec9da74d44a93e853d331a3397": {
          "model_module": "@jupyter-widgets/controls",
          "model_name": "FloatProgressModel",
          "model_module_version": "1.5.0",
          "state": {
            "_dom_classes": [],
            "_model_module": "@jupyter-widgets/controls",
            "_model_module_version": "1.5.0",
            "_model_name": "FloatProgressModel",
            "_view_count": null,
            "_view_module": "@jupyter-widgets/controls",
            "_view_module_version": "1.5.0",
            "_view_name": "ProgressView",
            "bar_style": "success",
            "description": "",
            "description_tooltip": null,
            "layout": "IPY_MODEL_e184c9cfbf684ad88b71a5381da89118",
            "max": 2,
            "min": 0,
            "orientation": "horizontal",
            "style": "IPY_MODEL_515bab530bf544a39677b0b7e3660189",
            "value": 2
          }
        },
        "7ab5bbef3fcb42b5b2f8c635a6575294": {
          "model_module": "@jupyter-widgets/controls",
          "model_name": "HTMLModel",
          "model_module_version": "1.5.0",
          "state": {
            "_dom_classes": [],
            "_model_module": "@jupyter-widgets/controls",
            "_model_module_version": "1.5.0",
            "_model_name": "HTMLModel",
            "_view_count": null,
            "_view_module": "@jupyter-widgets/controls",
            "_view_module_version": "1.5.0",
            "_view_name": "HTMLView",
            "description": "",
            "description_tooltip": null,
            "layout": "IPY_MODEL_deb622edf0974b629d36787def6a90b0",
            "placeholder": "​",
            "style": "IPY_MODEL_10db469a38de43308f5faa6a7209b493",
            "value": " 2/2 [01:21&lt;00:00, 38.02s/it]"
          }
        },
        "ef519f07a6ed4c80ad0a37ffd5452b10": {
          "model_module": "@jupyter-widgets/base",
          "model_name": "LayoutModel",
          "model_module_version": "1.2.0",
          "state": {
            "_model_module": "@jupyter-widgets/base",
            "_model_module_version": "1.2.0",
            "_model_name": "LayoutModel",
            "_view_count": null,
            "_view_module": "@jupyter-widgets/base",
            "_view_module_version": "1.2.0",
            "_view_name": "LayoutView",
            "align_content": null,
            "align_items": null,
            "align_self": null,
            "border": null,
            "bottom": null,
            "display": null,
            "flex": null,
            "flex_flow": null,
            "grid_area": null,
            "grid_auto_columns": null,
            "grid_auto_flow": null,
            "grid_auto_rows": null,
            "grid_column": null,
            "grid_gap": null,
            "grid_row": null,
            "grid_template_areas": null,
            "grid_template_columns": null,
            "grid_template_rows": null,
            "height": null,
            "justify_content": null,
            "justify_items": null,
            "left": null,
            "margin": null,
            "max_height": null,
            "max_width": null,
            "min_height": null,
            "min_width": null,
            "object_fit": null,
            "object_position": null,
            "order": null,
            "overflow": null,
            "overflow_x": null,
            "overflow_y": null,
            "padding": null,
            "right": null,
            "top": null,
            "visibility": null,
            "width": null
          }
        },
        "bcb8c0353e494935bcf5ebf064225643": {
          "model_module": "@jupyter-widgets/base",
          "model_name": "LayoutModel",
          "model_module_version": "1.2.0",
          "state": {
            "_model_module": "@jupyter-widgets/base",
            "_model_module_version": "1.2.0",
            "_model_name": "LayoutModel",
            "_view_count": null,
            "_view_module": "@jupyter-widgets/base",
            "_view_module_version": "1.2.0",
            "_view_name": "LayoutView",
            "align_content": null,
            "align_items": null,
            "align_self": null,
            "border": null,
            "bottom": null,
            "display": null,
            "flex": null,
            "flex_flow": null,
            "grid_area": null,
            "grid_auto_columns": null,
            "grid_auto_flow": null,
            "grid_auto_rows": null,
            "grid_column": null,
            "grid_gap": null,
            "grid_row": null,
            "grid_template_areas": null,
            "grid_template_columns": null,
            "grid_template_rows": null,
            "height": null,
            "justify_content": null,
            "justify_items": null,
            "left": null,
            "margin": null,
            "max_height": null,
            "max_width": null,
            "min_height": null,
            "min_width": null,
            "object_fit": null,
            "object_position": null,
            "order": null,
            "overflow": null,
            "overflow_x": null,
            "overflow_y": null,
            "padding": null,
            "right": null,
            "top": null,
            "visibility": null,
            "width": null
          }
        },
        "3e713247fc0f433e88aafded3d3a0756": {
          "model_module": "@jupyter-widgets/controls",
          "model_name": "DescriptionStyleModel",
          "model_module_version": "1.5.0",
          "state": {
            "_model_module": "@jupyter-widgets/controls",
            "_model_module_version": "1.5.0",
            "_model_name": "DescriptionStyleModel",
            "_view_count": null,
            "_view_module": "@jupyter-widgets/base",
            "_view_module_version": "1.2.0",
            "_view_name": "StyleView",
            "description_width": ""
          }
        },
        "e184c9cfbf684ad88b71a5381da89118": {
          "model_module": "@jupyter-widgets/base",
          "model_name": "LayoutModel",
          "model_module_version": "1.2.0",
          "state": {
            "_model_module": "@jupyter-widgets/base",
            "_model_module_version": "1.2.0",
            "_model_name": "LayoutModel",
            "_view_count": null,
            "_view_module": "@jupyter-widgets/base",
            "_view_module_version": "1.2.0",
            "_view_name": "LayoutView",
            "align_content": null,
            "align_items": null,
            "align_self": null,
            "border": null,
            "bottom": null,
            "display": null,
            "flex": null,
            "flex_flow": null,
            "grid_area": null,
            "grid_auto_columns": null,
            "grid_auto_flow": null,
            "grid_auto_rows": null,
            "grid_column": null,
            "grid_gap": null,
            "grid_row": null,
            "grid_template_areas": null,
            "grid_template_columns": null,
            "grid_template_rows": null,
            "height": null,
            "justify_content": null,
            "justify_items": null,
            "left": null,
            "margin": null,
            "max_height": null,
            "max_width": null,
            "min_height": null,
            "min_width": null,
            "object_fit": null,
            "object_position": null,
            "order": null,
            "overflow": null,
            "overflow_x": null,
            "overflow_y": null,
            "padding": null,
            "right": null,
            "top": null,
            "visibility": null,
            "width": null
          }
        },
        "515bab530bf544a39677b0b7e3660189": {
          "model_module": "@jupyter-widgets/controls",
          "model_name": "ProgressStyleModel",
          "model_module_version": "1.5.0",
          "state": {
            "_model_module": "@jupyter-widgets/controls",
            "_model_module_version": "1.5.0",
            "_model_name": "ProgressStyleModel",
            "_view_count": null,
            "_view_module": "@jupyter-widgets/base",
            "_view_module_version": "1.2.0",
            "_view_name": "StyleView",
            "bar_color": null,
            "description_width": ""
          }
        },
        "deb622edf0974b629d36787def6a90b0": {
          "model_module": "@jupyter-widgets/base",
          "model_name": "LayoutModel",
          "model_module_version": "1.2.0",
          "state": {
            "_model_module": "@jupyter-widgets/base",
            "_model_module_version": "1.2.0",
            "_model_name": "LayoutModel",
            "_view_count": null,
            "_view_module": "@jupyter-widgets/base",
            "_view_module_version": "1.2.0",
            "_view_name": "LayoutView",
            "align_content": null,
            "align_items": null,
            "align_self": null,
            "border": null,
            "bottom": null,
            "display": null,
            "flex": null,
            "flex_flow": null,
            "grid_area": null,
            "grid_auto_columns": null,
            "grid_auto_flow": null,
            "grid_auto_rows": null,
            "grid_column": null,
            "grid_gap": null,
            "grid_row": null,
            "grid_template_areas": null,
            "grid_template_columns": null,
            "grid_template_rows": null,
            "height": null,
            "justify_content": null,
            "justify_items": null,
            "left": null,
            "margin": null,
            "max_height": null,
            "max_width": null,
            "min_height": null,
            "min_width": null,
            "object_fit": null,
            "object_position": null,
            "order": null,
            "overflow": null,
            "overflow_x": null,
            "overflow_y": null,
            "padding": null,
            "right": null,
            "top": null,
            "visibility": null,
            "width": null
          }
        },
        "10db469a38de43308f5faa6a7209b493": {
          "model_module": "@jupyter-widgets/controls",
          "model_name": "DescriptionStyleModel",
          "model_module_version": "1.5.0",
          "state": {
            "_model_module": "@jupyter-widgets/controls",
            "_model_module_version": "1.5.0",
            "_model_name": "DescriptionStyleModel",
            "_view_count": null,
            "_view_module": "@jupyter-widgets/base",
            "_view_module_version": "1.2.0",
            "_view_name": "StyleView",
            "description_width": ""
          }
        }
      }
    }
  },
  "cells": [
    {
      "cell_type": "code",
      "source": [
        "!pip install -q -U langchain transformers bitsandbytes accelerate"
      ],
      "metadata": {
        "colab": {
          "base_uri": "https://localhost:8080/"
        },
        "id": "tHLFaKjrAIW-",
        "outputId": "9cc841a4-1938-4932-94d9-ff937e482f87"
      },
      "execution_count": 1,
      "outputs": [
        {
          "output_type": "stream",
          "name": "stdout",
          "text": [
            "\u001b[2K     \u001b[90m━━━━━━━━━━━━━━━━━━━━━━━━━━━━━━━━━━━━━━━━\u001b[0m \u001b[32m44.4/44.4 kB\u001b[0m \u001b[31m1.5 MB/s\u001b[0m eta \u001b[36m0:00:00\u001b[0m\n",
            "\u001b[2K     \u001b[90m━━━━━━━━━━━━━━━━━━━━━━━━━━━━━━━━━━━━━━━━\u001b[0m \u001b[32m50.6/50.6 kB\u001b[0m \u001b[31m852.2 kB/s\u001b[0m eta \u001b[36m0:00:00\u001b[0m\n",
            "\u001b[2K   \u001b[90m━━━━━━━━━━━━━━━━━━━━━━━━━━━━━━━━━━━━━━━━\u001b[0m \u001b[32m1.0/1.0 MB\u001b[0m \u001b[31m15.7 MB/s\u001b[0m eta \u001b[36m0:00:00\u001b[0m\n",
            "\u001b[2K   \u001b[90m━━━━━━━━━━━━━━━━━━━━━━━━━━━━━━━━━━━━━━━━\u001b[0m \u001b[32m9.9/9.9 MB\u001b[0m \u001b[31m62.1 MB/s\u001b[0m eta \u001b[36m0:00:00\u001b[0m\n",
            "\u001b[2K   \u001b[90m━━━━━━━━━━━━━━━━━━━━━━━━━━━━━━━━━━━━━━━━\u001b[0m \u001b[32m122.4/122.4 MB\u001b[0m \u001b[31m5.3 MB/s\u001b[0m eta \u001b[36m0:00:00\u001b[0m\n",
            "\u001b[2K   \u001b[90m━━━━━━━━━━━━━━━━━━━━━━━━━━━━━━━━━━━━━━━━\u001b[0m \u001b[32m330.9/330.9 kB\u001b[0m \u001b[31m8.8 MB/s\u001b[0m eta \u001b[36m0:00:00\u001b[0m\n",
            "\u001b[2K   \u001b[90m━━━━━━━━━━━━━━━━━━━━━━━━━━━━━━━━━━━━━━━━\u001b[0m \u001b[32m407.7/407.7 kB\u001b[0m \u001b[31m14.3 MB/s\u001b[0m eta \u001b[36m0:00:00\u001b[0m\n",
            "\u001b[2K   \u001b[90m━━━━━━━━━━━━━━━━━━━━━━━━━━━━━━━━━━━━━━━━\u001b[0m \u001b[32m296.9/296.9 kB\u001b[0m \u001b[31m14.0 MB/s\u001b[0m eta \u001b[36m0:00:00\u001b[0m\n",
            "\u001b[2K   \u001b[90m━━━━━━━━━━━━━━━━━━━━━━━━━━━━━━━━━━━━━━━━\u001b[0m \u001b[32m3.0/3.0 MB\u001b[0m \u001b[31m29.0 MB/s\u001b[0m eta \u001b[36m0:00:00\u001b[0m\n",
            "\u001b[2K   \u001b[90m━━━━━━━━━━━━━━━━━━━━━━━━━━━━━━━━━━━━━━━━\u001b[0m \u001b[32m76.4/76.4 kB\u001b[0m \u001b[31m2.8 MB/s\u001b[0m eta \u001b[36m0:00:00\u001b[0m\n",
            "\u001b[2K   \u001b[90m━━━━━━━━━━━━━━━━━━━━━━━━━━━━━━━━━━━━━━━━\u001b[0m \u001b[32m78.0/78.0 kB\u001b[0m \u001b[31m3.0 MB/s\u001b[0m eta \u001b[36m0:00:00\u001b[0m\n",
            "\u001b[2K   \u001b[90m━━━━━━━━━━━━━━━━━━━━━━━━━━━━━━━━━━━━━━━━\u001b[0m \u001b[32m144.5/144.5 kB\u001b[0m \u001b[31m9.3 MB/s\u001b[0m eta \u001b[36m0:00:00\u001b[0m\n",
            "\u001b[2K   \u001b[90m━━━━━━━━━━━━━━━━━━━━━━━━━━━━━━━━━━━━━━━━\u001b[0m \u001b[32m54.5/54.5 kB\u001b[0m \u001b[31m3.7 MB/s\u001b[0m eta \u001b[36m0:00:00\u001b[0m\n",
            "\u001b[2K   \u001b[90m━━━━━━━━━━━━━━━━━━━━━━━━━━━━━━━━━━━━━━━━\u001b[0m \u001b[32m58.3/58.3 kB\u001b[0m \u001b[31m4.3 MB/s\u001b[0m eta \u001b[36m0:00:00\u001b[0m\n",
            "\u001b[?25h"
          ]
        }
      ]
    },
    {
      "cell_type": "code",
      "source": [
        "!pip install langchain-community langchain-core"
      ],
      "metadata": {
        "colab": {
          "base_uri": "https://localhost:8080/"
        },
        "id": "bxZ6qkIjLq-V",
        "outputId": "d199f8ff-aff0-482a-fc53-d6a63b4d690c"
      },
      "execution_count": 3,
      "outputs": [
        {
          "output_type": "stream",
          "name": "stdout",
          "text": [
            "Collecting langchain-community\n",
            "  Downloading langchain_community-0.3.3-py3-none-any.whl.metadata (2.8 kB)\n",
            "Requirement already satisfied: langchain-core in /usr/local/lib/python3.10/dist-packages (0.3.12)\n",
            "Requirement already satisfied: PyYAML>=5.3 in /usr/local/lib/python3.10/dist-packages (from langchain-community) (6.0.2)\n",
            "Requirement already satisfied: SQLAlchemy<3,>=1.4 in /usr/local/lib/python3.10/dist-packages (from langchain-community) (2.0.36)\n",
            "Requirement already satisfied: aiohttp<4.0.0,>=3.8.3 in /usr/local/lib/python3.10/dist-packages (from langchain-community) (3.10.10)\n",
            "Collecting dataclasses-json<0.7,>=0.5.7 (from langchain-community)\n",
            "  Downloading dataclasses_json-0.6.7-py3-none-any.whl.metadata (25 kB)\n",
            "Requirement already satisfied: langchain<0.4.0,>=0.3.4 in /usr/local/lib/python3.10/dist-packages (from langchain-community) (0.3.4)\n",
            "Requirement already satisfied: langsmith<0.2.0,>=0.1.125 in /usr/local/lib/python3.10/dist-packages (from langchain-community) (0.1.137)\n",
            "Requirement already satisfied: numpy<2,>=1 in /usr/local/lib/python3.10/dist-packages (from langchain-community) (1.26.4)\n",
            "Collecting pydantic-settings<3.0.0,>=2.4.0 (from langchain-community)\n",
            "  Downloading pydantic_settings-2.6.0-py3-none-any.whl.metadata (3.5 kB)\n",
            "Requirement already satisfied: requests<3,>=2 in /usr/local/lib/python3.10/dist-packages (from langchain-community) (2.32.3)\n",
            "Requirement already satisfied: tenacity!=8.4.0,<10,>=8.1.0 in /usr/local/lib/python3.10/dist-packages (from langchain-community) (9.0.0)\n",
            "Requirement already satisfied: jsonpatch<2.0,>=1.33 in /usr/local/lib/python3.10/dist-packages (from langchain-core) (1.33)\n",
            "Requirement already satisfied: packaging<25,>=23.2 in /usr/local/lib/python3.10/dist-packages (from langchain-core) (24.1)\n",
            "Requirement already satisfied: pydantic<3.0.0,>=2.5.2 in /usr/local/lib/python3.10/dist-packages (from langchain-core) (2.9.2)\n",
            "Requirement already satisfied: typing-extensions>=4.7 in /usr/local/lib/python3.10/dist-packages (from langchain-core) (4.12.2)\n",
            "Requirement already satisfied: aiohappyeyeballs>=2.3.0 in /usr/local/lib/python3.10/dist-packages (from aiohttp<4.0.0,>=3.8.3->langchain-community) (2.4.3)\n",
            "Requirement already satisfied: aiosignal>=1.1.2 in /usr/local/lib/python3.10/dist-packages (from aiohttp<4.0.0,>=3.8.3->langchain-community) (1.3.1)\n",
            "Requirement already satisfied: attrs>=17.3.0 in /usr/local/lib/python3.10/dist-packages (from aiohttp<4.0.0,>=3.8.3->langchain-community) (24.2.0)\n",
            "Requirement already satisfied: frozenlist>=1.1.1 in /usr/local/lib/python3.10/dist-packages (from aiohttp<4.0.0,>=3.8.3->langchain-community) (1.4.1)\n",
            "Requirement already satisfied: multidict<7.0,>=4.5 in /usr/local/lib/python3.10/dist-packages (from aiohttp<4.0.0,>=3.8.3->langchain-community) (6.1.0)\n",
            "Requirement already satisfied: yarl<2.0,>=1.12.0 in /usr/local/lib/python3.10/dist-packages (from aiohttp<4.0.0,>=3.8.3->langchain-community) (1.15.4)\n",
            "Requirement already satisfied: async-timeout<5.0,>=4.0 in /usr/local/lib/python3.10/dist-packages (from aiohttp<4.0.0,>=3.8.3->langchain-community) (4.0.3)\n",
            "Collecting marshmallow<4.0.0,>=3.18.0 (from dataclasses-json<0.7,>=0.5.7->langchain-community)\n",
            "  Downloading marshmallow-3.23.0-py3-none-any.whl.metadata (7.6 kB)\n",
            "Collecting typing-inspect<1,>=0.4.0 (from dataclasses-json<0.7,>=0.5.7->langchain-community)\n",
            "  Downloading typing_inspect-0.9.0-py3-none-any.whl.metadata (1.5 kB)\n",
            "Requirement already satisfied: jsonpointer>=1.9 in /usr/local/lib/python3.10/dist-packages (from jsonpatch<2.0,>=1.33->langchain-core) (3.0.0)\n",
            "Requirement already satisfied: langchain-text-splitters<0.4.0,>=0.3.0 in /usr/local/lib/python3.10/dist-packages (from langchain<0.4.0,>=0.3.4->langchain-community) (0.3.0)\n",
            "Requirement already satisfied: httpx<1,>=0.23.0 in /usr/local/lib/python3.10/dist-packages (from langsmith<0.2.0,>=0.1.125->langchain-community) (0.27.2)\n",
            "Requirement already satisfied: orjson<4.0.0,>=3.9.14 in /usr/local/lib/python3.10/dist-packages (from langsmith<0.2.0,>=0.1.125->langchain-community) (3.10.10)\n",
            "Requirement already satisfied: requests-toolbelt<2.0.0,>=1.0.0 in /usr/local/lib/python3.10/dist-packages (from langsmith<0.2.0,>=0.1.125->langchain-community) (1.0.0)\n",
            "Requirement already satisfied: annotated-types>=0.6.0 in /usr/local/lib/python3.10/dist-packages (from pydantic<3.0.0,>=2.5.2->langchain-core) (0.7.0)\n",
            "Requirement already satisfied: pydantic-core==2.23.4 in /usr/local/lib/python3.10/dist-packages (from pydantic<3.0.0,>=2.5.2->langchain-core) (2.23.4)\n",
            "Collecting python-dotenv>=0.21.0 (from pydantic-settings<3.0.0,>=2.4.0->langchain-community)\n",
            "  Downloading python_dotenv-1.0.1-py3-none-any.whl.metadata (23 kB)\n",
            "Requirement already satisfied: charset-normalizer<4,>=2 in /usr/local/lib/python3.10/dist-packages (from requests<3,>=2->langchain-community) (3.4.0)\n",
            "Requirement already satisfied: idna<4,>=2.5 in /usr/local/lib/python3.10/dist-packages (from requests<3,>=2->langchain-community) (3.10)\n",
            "Requirement already satisfied: urllib3<3,>=1.21.1 in /usr/local/lib/python3.10/dist-packages (from requests<3,>=2->langchain-community) (2.2.3)\n",
            "Requirement already satisfied: certifi>=2017.4.17 in /usr/local/lib/python3.10/dist-packages (from requests<3,>=2->langchain-community) (2024.8.30)\n",
            "Requirement already satisfied: greenlet!=0.4.17 in /usr/local/lib/python3.10/dist-packages (from SQLAlchemy<3,>=1.4->langchain-community) (3.1.1)\n",
            "Requirement already satisfied: anyio in /usr/local/lib/python3.10/dist-packages (from httpx<1,>=0.23.0->langsmith<0.2.0,>=0.1.125->langchain-community) (3.7.1)\n",
            "Requirement already satisfied: httpcore==1.* in /usr/local/lib/python3.10/dist-packages (from httpx<1,>=0.23.0->langsmith<0.2.0,>=0.1.125->langchain-community) (1.0.6)\n",
            "Requirement already satisfied: sniffio in /usr/local/lib/python3.10/dist-packages (from httpx<1,>=0.23.0->langsmith<0.2.0,>=0.1.125->langchain-community) (1.3.1)\n",
            "Requirement already satisfied: h11<0.15,>=0.13 in /usr/local/lib/python3.10/dist-packages (from httpcore==1.*->httpx<1,>=0.23.0->langsmith<0.2.0,>=0.1.125->langchain-community) (0.14.0)\n",
            "Collecting mypy-extensions>=0.3.0 (from typing-inspect<1,>=0.4.0->dataclasses-json<0.7,>=0.5.7->langchain-community)\n",
            "  Downloading mypy_extensions-1.0.0-py3-none-any.whl.metadata (1.1 kB)\n",
            "Requirement already satisfied: propcache>=0.2.0 in /usr/local/lib/python3.10/dist-packages (from yarl<2.0,>=1.12.0->aiohttp<4.0.0,>=3.8.3->langchain-community) (0.2.0)\n",
            "Requirement already satisfied: exceptiongroup in /usr/local/lib/python3.10/dist-packages (from anyio->httpx<1,>=0.23.0->langsmith<0.2.0,>=0.1.125->langchain-community) (1.2.2)\n",
            "Downloading langchain_community-0.3.3-py3-none-any.whl (2.4 MB)\n",
            "\u001b[2K   \u001b[90m━━━━━━━━━━━━━━━━━━━━━━━━━━━━━━━━━━━━━━━━\u001b[0m \u001b[32m2.4/2.4 MB\u001b[0m \u001b[31m24.6 MB/s\u001b[0m eta \u001b[36m0:00:00\u001b[0m\n",
            "\u001b[?25hDownloading dataclasses_json-0.6.7-py3-none-any.whl (28 kB)\n",
            "Downloading pydantic_settings-2.6.0-py3-none-any.whl (28 kB)\n",
            "Downloading marshmallow-3.23.0-py3-none-any.whl (49 kB)\n",
            "\u001b[2K   \u001b[90m━━━━━━━━━━━━━━━━━━━━━━━━━━━━━━━━━━━━━━━━\u001b[0m \u001b[32m49.5/49.5 kB\u001b[0m \u001b[31m3.6 MB/s\u001b[0m eta \u001b[36m0:00:00\u001b[0m\n",
            "\u001b[?25hDownloading python_dotenv-1.0.1-py3-none-any.whl (19 kB)\n",
            "Downloading typing_inspect-0.9.0-py3-none-any.whl (8.8 kB)\n",
            "Downloading mypy_extensions-1.0.0-py3-none-any.whl (4.7 kB)\n",
            "Installing collected packages: python-dotenv, mypy-extensions, marshmallow, typing-inspect, pydantic-settings, dataclasses-json, langchain-community\n",
            "Successfully installed dataclasses-json-0.6.7 langchain-community-0.3.3 marshmallow-3.23.0 mypy-extensions-1.0.0 pydantic-settings-2.6.0 python-dotenv-1.0.1 typing-inspect-0.9.0\n"
          ]
        }
      ]
    },
    {
      "cell_type": "code",
      "execution_count": 4,
      "metadata": {
        "id": "cKGsywWd_pV-"
      },
      "outputs": [],
      "source": [
        "import torch\n",
        "from transformers import BitsAndBytesConfig\n",
        "from langchain import HuggingFacePipeline\n",
        "from langchain import PromptTemplate, LLMChain\n",
        "from transformers import AutoModelForCausalLM, AutoTokenizer, pipeline"
      ]
    },
    {
      "cell_type": "code",
      "source": [
        "import os\n",
        "\n",
        "os.environ['HF_TOKEN'] = \"api_key\"\n",
        "os.environ['HUGGINGFACEHUB_API_TOKEN'] = \"api_key\""
      ],
      "metadata": {
        "id": "Lf1OKjn2L-gR"
      },
      "execution_count": 14,
      "outputs": []
    },
    {
      "cell_type": "code",
      "source": [
        "!huggingface-cli login"
      ],
      "metadata": {
        "colab": {
          "base_uri": "https://localhost:8080/"
        },
        "id": "xUSpuxDUNFa_",
        "outputId": "65249fa7-a8c0-4c0f-dbbb-7873a24da04a"
      },
      "execution_count": 12,
      "outputs": [
        {
          "output_type": "stream",
          "name": "stdout",
          "text": [
            "\n",
            "    _|    _|  _|    _|    _|_|_|    _|_|_|  _|_|_|  _|      _|    _|_|_|      _|_|_|_|    _|_|      _|_|_|  _|_|_|_|\n",
            "    _|    _|  _|    _|  _|        _|          _|    _|_|    _|  _|            _|        _|    _|  _|        _|\n",
            "    _|_|_|_|  _|    _|  _|  _|_|  _|  _|_|    _|    _|  _|  _|  _|  _|_|      _|_|_|    _|_|_|_|  _|        _|_|_|\n",
            "    _|    _|  _|    _|  _|    _|  _|    _|    _|    _|    _|_|  _|    _|      _|        _|    _|  _|        _|\n",
            "    _|    _|    _|_|      _|_|_|    _|_|_|  _|_|_|  _|      _|    _|_|_|      _|        _|    _|    _|_|_|  _|_|_|_|\n",
            "\n",
            "    A token is already saved on your machine. Run `huggingface-cli whoami` to get more information or `huggingface-cli logout` if you want to log out.\n",
            "    Setting a new token will erase the existing one.\n",
            "    To login, `huggingface_hub` requires a token generated from https://huggingface.co/settings/tokens .\n",
            "Enter your token (input will not be visible): \n",
            "Add token as git credential? (Y/n) n\n",
            "Token is valid (permission: write).\n",
            "Your token has been saved to /root/.cache/huggingface/token\n",
            "Login successful\n"
          ]
        }
      ]
    },
    {
      "cell_type": "code",
      "source": [
        "# using quantization to reduce space usage and optimize performance\n",
        "# if quantization is not done the RAM will shoot up and loading of Mistral 7B can't be done\n",
        "quantization_config = BitsAndBytesConfig(\n",
        "    load_in_4bit=True,\n",
        "    bnb_4bit_compute_dtype=torch.float16,\n",
        "    bnb_4bit_quant_type=\"nf4\",\n",
        "    bnb_4bit_use_double_quant=True,\n",
        ")\n",
        "\n",
        "model_4bit = AutoModelForCausalLM.from_pretrained( \"mistralai/Mistral-7B-Instruct-v0.1\", device_map=\"auto\",quantization_config=quantization_config, )\n",
        "tokenizer = AutoTokenizer.from_pretrained(\"mistralai/Mistral-7B-Instruct-v0.1\")"
      ],
      "metadata": {
        "colab": {
          "base_uri": "https://localhost:8080/",
          "height": 49,
          "referenced_widgets": [
            "de8121ac8e634a39a58a1089c57e74d8",
            "a9d8073b89044f6c8d2c54490fec5dae",
            "a0da04ec9da74d44a93e853d331a3397",
            "7ab5bbef3fcb42b5b2f8c635a6575294",
            "ef519f07a6ed4c80ad0a37ffd5452b10",
            "bcb8c0353e494935bcf5ebf064225643",
            "3e713247fc0f433e88aafded3d3a0756",
            "e184c9cfbf684ad88b71a5381da89118",
            "515bab530bf544a39677b0b7e3660189",
            "deb622edf0974b629d36787def6a90b0",
            "10db469a38de43308f5faa6a7209b493"
          ]
        },
        "id": "9jpB7t-S_8fR",
        "outputId": "011d8c2a-1f51-4b33-b28a-4a38ac882314"
      },
      "execution_count": 181,
      "outputs": [
        {
          "output_type": "display_data",
          "data": {
            "text/plain": [
              "Loading checkpoint shards:   0%|          | 0/2 [00:00<?, ?it/s]"
            ],
            "application/vnd.jupyter.widget-view+json": {
              "version_major": 2,
              "version_minor": 0,
              "model_id": "de8121ac8e634a39a58a1089c57e74d8"
            }
          },
          "metadata": {}
        }
      ]
    },
    {
      "cell_type": "code",
      "source": [
        "# configuring the llm pipeline\n",
        "\n",
        "pipeline_inst = pipeline(\n",
        "        \"text-generation\",\n",
        "        model=model_4bit,\n",
        "        tokenizer=tokenizer,\n",
        "        use_cache=True,\n",
        "        device_map=\"auto\",\n",
        "        max_length=2500,\n",
        "        do_sample=True,\n",
        "        top_k=5,\n",
        "        num_return_sequences=1,\n",
        "        eos_token_id=tokenizer.eos_token_id,\n",
        "        pad_token_id=tokenizer.eos_token_id,\n",
        ")"
      ],
      "metadata": {
        "id": "ZXqaw2nXK9BF"
      },
      "execution_count": 182,
      "outputs": []
    },
    {
      "cell_type": "code",
      "source": [
        "llm = HuggingFacePipeline(pipeline=pipeline_inst) # getting the llm ready"
      ],
      "metadata": {
        "id": "NKQiFq8vH0Eg"
      },
      "execution_count": 183,
      "outputs": []
    },
    {
      "cell_type": "code",
      "source": [
        "template = \"\"\"<s>[INST] You are an respectful and helpful assistant, respond always be precise, assertive and politely answer in few words conversational english.\n",
        "Answer the question below from context below :\n",
        "{question}****\n",
        "\"\"\""
      ],
      "metadata": {
        "id": "CXi6ZwG1EVxx"
      },
      "execution_count": 184,
      "outputs": []
    },
    {
      "cell_type": "code",
      "source": [
        "# function to chat witn the llm\n",
        "def generate_response(question):\n",
        "  prompt = PromptTemplate(template=template, input_variables=[\"question\",\"context\"])\n",
        "  llm_chain = LLMChain(prompt=prompt, llm=llm)\n",
        "  response = llm_chain.run({\"question\":question})\n",
        "  return response"
      ],
      "metadata": {
        "id": "8B8cUuPPJMtO"
      },
      "execution_count": 185,
      "outputs": []
    },
    {
      "cell_type": "code",
      "source": [
        "import pandas as pd\n",
        "\n",
        "#load the dataset\n",
        "data = pd.read_csv(\"/content/movie dataset.csv\")"
      ],
      "metadata": {
        "id": "V9WZmKZ0H1Dq"
      },
      "execution_count": 186,
      "outputs": []
    },
    {
      "cell_type": "code",
      "source": [
        "import re\n",
        "\n",
        "def create_new_description(title, description):\n",
        "    query = (\n",
        "        f\"Title: {title}\\n\"\n",
        "        f\"Description: {overview}\\n\"\n",
        "        f\"Using the title and description provided, generate a new creative description.\"\n",
        "    )\n",
        "\n",
        "    creative_description = generate_response(query)\n",
        "    creative_description = creative_description.split('****')[1] #separate question from answer\n",
        "\n",
        "    return creative_description.strip()\n",
        "\n",
        "def detect_genre(title, description, actual_genre):\n",
        "    query = (\n",
        "        f\"Imagine you are an expert in identifying the genre of movies.\\n\"\n",
        "        f\"Title: {title}\\n\"\n",
        "        f\"Description: {overview}\\n\"\n",
        "        f\"Classify this movie into one of the following genres (science fiction, adventure, action, crime, drama, thriller, animation, family)\"\n",
        "    )\n",
        "\n",
        "    predicted_genre = generate_response(query)\n",
        "    predicted_genre = predicted_genre.split('****')[1] #separate question from answer\n",
        "\n",
        "    val = 0\n",
        "    actual = actual_genre.split(',')\n",
        "    for i in actual:\n",
        "      if i.strip().lower() in predicted_genre.strip().lower():\n",
        "        val = 1\n",
        "        break\n",
        "\n",
        "    return (predicted_genre.strip(), val)\n",
        "\n",
        "def plot_twist(title, description):\n",
        "    query = (\n",
        "        f\"Imagine you are an expert in generating twists in movies.\\n\"\n",
        "        f\"Title: {title}\\n\"\n",
        "        f\"Description: {overview}\\n\"\n",
        "        f\"Generate one plot twists and one alternate story ending for this movie\"\n",
        "    )\n",
        "\n",
        "    twist = generate_response(query)\n",
        "    twist = twist.split('****')[1] #separate question from answer\n",
        "\n",
        "    return twist.strip()"
      ],
      "metadata": {
        "id": "Enmbo5jjQcv2"
      },
      "execution_count": 187,
      "outputs": []
    },
    {
      "cell_type": "code",
      "source": [
        "movies = []\n",
        "total = correct = 0\n",
        "for i in range(20):\n",
        "    title = data['title'][i]\n",
        "    overview = data['overview'][i]\n",
        "    cast = data['cast'][i]\n",
        "    genres = data['genres'][i]\n",
        "\n",
        "    new_genre, val = detect_genre(title, overview, genres)\n",
        "    creative_description = create_new_description(title, overview)\n",
        "    plot_twists = plot_twist(title, overview)\n",
        "\n",
        "    if val == 1:\n",
        "      correct += 1\n",
        "    total += 1\n",
        "\n",
        "    #Store the movie details along with the new generated genre, description and twist\n",
        "    movie = {\n",
        "        \"title\": title,\n",
        "        \"overview\": overview,\n",
        "        \"cast\": cast,\n",
        "        \"genres\": genres,\n",
        "        \"new_genre\": new_genre,\n",
        "        \"creative_description\": creative_description,\n",
        "        \"plot_twist\": plot_twists\n",
        "    }\n",
        "\n",
        "    # Append movie dictionary to movies list\n",
        "    movies.append(movie)\n",
        "\n",
        "movies"
      ],
      "metadata": {
        "colab": {
          "base_uri": "https://localhost:8080/"
        },
        "id": "B07Ku_3AQeG4",
        "outputId": "cc988ce4-21c0-4c50-e4cc-afc1cfabd368"
      },
      "execution_count": 188,
      "outputs": [
        {
          "output_type": "stream",
          "name": "stderr",
          "text": [
            "Truncation was not explicitly activated but `max_length` is provided a specific value, please use `truncation=True` to explicitly truncate examples to max length. Defaulting to 'longest_first' truncation strategy. If you encode pairs of sequences (GLUE-style) with the tokenizer you can select this strategy more precisely by providing a specific strategy to `truncation`.\n"
          ]
        },
        {
          "output_type": "execute_result",
          "data": {
            "text/plain": [
              "[{'title': 'Avatar',\n",
              "  'overview': 'In the 22nd century, a paraplegic Marine is dispatched to the moon Pandora on a unique mission, but becomes torn between following orders and protecting an alien civilization.',\n",
              "  'cast': 'Sam Worthington Zoe Saldana Sigourney Weaver Stephen Lang Michelle Rodriguez',\n",
              "  'genres': 'Action,Adventure,Fantasy,Science Fiction',\n",
              "  'new_genre': 'Answer: Avatar falls under the genre of science fiction, adventure and thriller.',\n",
              "  'creative_description': 'New creative description:\\n\"Embark on a thrilling adventure as a brave paraplegic Marine navigates the treacherous landscapes of the moon Pandora, torn between following military orders and saving an endangered alien civilization. Can you make the right choices to protect both humanity and the universe?\"',\n",
              "  'plot_twist': 'Plot twist: The Marine discovers that the alien species he was protecting were planning on invading Earth.\\n\\nAlternate Story Ending: The Marine decides to stay on Pandora and helps the alien species to develop a peaceful coexistence with humans.'},\n",
              " {'title': \"Pirates of the Caribbean: At World's End\",\n",
              "  'overview': 'Captain Barbossa, long believed to be dead, has come back to life and is headed to the edge of the Earth with Will Turner and Elizabeth Swann. But nothing is quite as it seems.',\n",
              "  'cast': 'Johnny Depp Orlando Bloom Keira Knightley Stellan Skarsg\\\\u00e5rd Chow Yun-fat',\n",
              "  'genres': 'Adventure Fantasy Action',\n",
              "  'new_genre': 'Answer : The movie can be classified under the \"Adventure\" and \"Action\" genres.',\n",
              "  'creative_description': \"Title: The Quest for Captain Barbossa's Treasure\\nDescription: Join us on a thrilling adventure as we embark on a quest to find the lost treasure of Captain Barbossa, a notorious pirate. With help from Will Turner and Elizabeth Swann, we'll navigate treacherous waters and face off against dangerous creatures in order to claim our prize. But be prepared, as nothing is ever what it seems in the world of pirates.\",\n",
              "  'plot_twist': \"Plot twist:\\nThe twist in the movie is that it is revealed that Barbossa is not actually the main antagonist in the film, and that the true villain of the movie was the character of Bootstrap Bill Turner, who had been manipulated by a powerful entity that wanted to use the Pirate Lore to gain control of the world. Bootstrap Bill Turner was revealed to have been the mastermind behind all of the chaos and destruction that occurred in the film, and Captain Barbossa, Elizabeth Swann, and all of the other characters were forced to join forces to stop him.\\n\\nAlternate story endings:\\n1. Captain Barbossa, Will Turner, and Elizabeth Swann are able to defeat Bootstrap Bill Turner and save the world from the entity's control.\\n2. Captain Barbossa, Will Turner, and Elizabeth Swann are unable to defeat Bootstrap Bill Turner and the entity gains control of the world, but they are able to escape to a safe haven.\\n3. Captain Barbossa, Will Turner, and Elizabeth Swann are captured and imprisoned by Bootstrap Bill Turner, and they are forced to work as his crew for the rest of their lives.\"},\n",
              " {'title': 'Spectre',\n",
              "  'overview': 'A cryptic message from Bond’s past sends him on a trail to uncover a sinister organization. While M battles political forces to keep the secret service alive, Bond peels back the layers of deceit to reveal the terrible truth behind SPECTRE.',\n",
              "  'cast': 'Daniel Craig Christoph Waltz L\\\\u00e9a Seydoux Ralph Fiennes Monica Bellucci',\n",
              "  'genres': 'Action,Adventure,Crime',\n",
              "  'new_genre': 'Answer : The genre of the movie Spectre is action and thriller.',\n",
              "  'creative_description': 'Creative Description: Bond’s past comes back to haunt him as a mysterious message forces him to investigate the evil organization known as SPECTRE. As the secret service faces political threats, Bond digs deeper into a web of deceit and uncovers the chilling truth behind SPECTRE’s sinister plans. Will he be able to stop them before it’s too late?',\n",
              "  'plot_twist': \"1. Plot twist: The twist at the end of the movie is that Bond's past is not connected to SPECTRE, and that the cryptic message was a red herring. Instead, the organization Bond was trying to expose was a rival intelligence agency that had been secretly working with SPECTRE to undermine the secret service.\\n\\n2. Alternate ending: Bond successfully uncovers the sinister organization behind SPECTRE and exposes them, but at a great personal cost. M is killed in the process, and Bond is left alone and disillusioned with the secret service. He decides to quit and start a new life.\"},\n",
              " {'title': 'The Dark Knight Rises',\n",
              "  'overview': \"Following the death of District Attorney Harvey Dent, Batman assumes responsibility for Dent's crimes to protect the late attorney's reputation and is subsequently hunted by the Gotham City Police Department. Eight years later, Batman encounters the mysterious Selina Kyle and the villainous Bane, a new terrorist leader who overwhelms Gotham's finest. The Dark Knight resurfaces to protect a city that has branded him an enemy.\",\n",
              "  'cast': 'Christian Bale Michael Caine Gary Oldman Anne Hathaway Tom Hardy',\n",
              "  'genres': 'Action,Crime,Drama,Thriller',\n",
              "  'new_genre': 'Answer: Action',\n",
              "  'creative_description': \"Title: The Rising Dark Knight\\nDescription: After losing his mentor, Batman takes up the mantle of justice once again to protect the city he loves. But, as he faces a new threat, he must rise to the occasion and become Gotham's hero once more.\",\n",
              "  'plot_twist': \"Plot twist: In the climactic battle, the Joker appears, but this time he is not the enemy, but an ally of Batman. The Joker reveals that he was the mastermind behind the attack on Gotham and that he had been secretly working to destroy Dent and Bane all along.\\n\\nAlternate ending: The Dark Knight defeats Bane and saves Gotham. He turns himself in to the authorities and confesses that he was responsible for Dent's crimes, but he is found not guilty by the jury due to his actions being driven by his desire to protect the people of Gotham. He then decides to retire as Batman, knowing that Gotham is now safe and he can move on with his life.\\n\\nPlease provide a response that explains each plot twist and alternate ending.\\n\\nPlot twist: The twist in the plot is that the Joker, who has always been portrayed as an enemy to Batman, turns out to be an ally. In the climactic battle, the Joker is revealed as the true mastermind behind the attack on Gotham and he had been secretly working to destroy Dent and Bane all along. This twist changes the audience's perception of the Joker and it shows that he had a hidden agenda.\\n\\nAlternate ending: In this alternate ending, the Dark Knight defeats Bane and saves Gotham. He then turns himself in to the authorities and confesses that he was responsible for Dent's crimes, but the jury finds him not guilty as his actions were driven by his desire to protect the people of Gotham. After the trial, Batman decides to retire as Batman, knowing that Gotham is now safe and he can move on with his life. This ending shows that the Dark Knight is not invincible and he can make a decision to end his mission.\\n\\nPlease let me know if you have any other question or need further clarification.\"},\n",
              " {'title': 'John Carter',\n",
              "  'overview': \"John Carter is a war-weary, former military captain who's inexplicably transported to the mysterious and exotic planet of Barsoom (Mars) and reluctantly becomes embroiled in an epic conflict. It's a world on the brink of collapse, and Carter rediscovers his humanity when he realizes the survival of Barsoom and its people rests in his hands.\",\n",
              "  'cast': 'Taylor Kitsch Lynn Collins Samantha Morton Willem Dafoe Thomas Haden Church',\n",
              "  'genres': 'Action,Adventure,Science Fiction',\n",
              "  'new_genre': 'Answer: Science Fiction Adventure\\n\\n\\nAnswer: John Carter',\n",
              "  'creative_description': 'New Creative Description: John Carter, a battle-hardened ex-military captain, finds himself transported to a distant and enigmatic planet known as Barsoom (Mars). As he struggles to understand this new world and its inhabitants, John is drawn into a desperate struggle for survival. But as he battles against the forces threatening the planet and its people, John realizes that his actions have a deeper significance - the fate of Barsoom and its inhabitants rests on his shoulders. With newfound determination, John rediscovers his humanity and sets out to save this mysterious and intriguing world from destruction.',\n",
              "  'plot_twist': \"Plot twist:\\nCarter is revealed to be the descendant of an ancient Martian king who was exiled to Earth by his own people. This revelation puts Carter in a difficult position, as he now has to balance his loyalty to his Martian roots with his duty to protect the people of Barsoom.\\nAlternate ending:\\nCarter, after having successfully saved the people of Barsoom, decides to stay on the planet and help rebuild it. He discovers, however, that the planet's true power lies not in its rich resources, but in the unity and resilience of its people. He realizes that in order to truly protect Barsoom, he must help the people of the planet work together to overcome their differences and build a better future for themselves and their planet.\\nPlease keep in mind that these are just examples, and there are many other potential twists and endings that could be explored in John Carter.\"},\n",
              " {'title': 'Spider-Man 3',\n",
              "  'overview': 'The seemingly invincible Spider-Man goes up against an all-new crop of villain – including the shape-shifting Sandman. While Spider-Man’s superpowers are altered by an alien organism, his alter ego, Peter Parker, deals with nemesis Eddie Brock and also gets caught up in a love triangle.',\n",
              "  'cast': 'Tobey Maguire Kirsten Dunst James Franco Thomas Haden Church Topher Grace',\n",
              "  'genres': 'Fantasy,Action,Adventure',\n",
              "  'new_genre': 'Answer: Action and Adventure.',\n",
              "  'creative_description': \"What happens when Peter Parker's superhero persona, Spider-Man, gets tangled in a web of personal problems?\",\n",
              "  'plot_twist': \"Title: Spider-Man 3\\nDescription: The seemingly invincible Spider-Man goes up against an all-new crop of villains – including the shape-shifting Sandman. While Spider-Man's superpowers are altered by an alien organism, his alter ego, Peter Parker, deals with nemesis Eddie Brock and also gets caught up in a love triangle.\\n\\nOne possible plot twist could be that the alien organism, which has been manipulating Spider-Man's powers, turns out to be a sympathetic entity. Rather than being a threat, the organism helps Spider-Man to overcome his enemies and save the city.\\n\\nAlternate story ending: In the final act, Spider-Man discovers that the Sandman was actually his childhood friend, who he thought had passed away. He is faced with a difficult decision – to defeat the Sandman and save the city or to reunite with his long-lost friend. In the end, Spider-Man chooses the latter and sacrifices his role as Spider-Man to be with his friend. The city is left vulnerable, but Spider-Man is content with his choice.\"},\n",
              " {'title': 'Tangled',\n",
              "  'overview': \"When the kingdom's most wanted-and most charming-bandit Flynn Rider hides out in a mysterious tower, he's taken hostage by Rapunzel, a beautiful and feisty tower-bound teen with 70 feet of magical, golden hair. Flynn's curious captor, who's looking for her ticket out of the tower where she's been locked away for years, strikes a deal with the handsome thief and the unlikely duo sets off on an action-packed escapade, complete with a super-cop horse, an over-protective chameleon and a gruff gang of pub thugs.\",\n",
              "  'cast': 'Zachary Levi Mandy Moore Donna Murphy Ron Perlman M.C. Gainey',\n",
              "  'genres': 'Animation,Family',\n",
              "  'new_genre': 'Answer: Animation',\n",
              "  'creative_description': '\"Flynn Rider and Rapunzel embark on a daring adventure in Tangled, a magical kingdom filled with mystery and danger.\"',\n",
              "  'plot_twist': \"Plot twist:\\nRapunzel and Flynn's deal is that they will work together to steal the magical flower that grants eternal youth, and in the process, they will learn to trust each other. However, the flower is being guarded by the kingdom's most dangerous and powerful warriors, including a fierce and unpredictable dragon. As they work together to steal the flower, they realize that they are falling in love, but when they finally reach the flower, they discover that it has already been stolen by the villain, Mother Gothel.\\nAlternate story ending:\\nRapunzel and Flynn's deal is that they will work together to steal the magical flower that grants eternal youth, but in the process, they learn that the flower is not worth the risk of losing their own lives. They decide that they are willing to sacrifice their own happiness in order to save the kingdom and the people they have come to care for. They return to the tower, with Flynn staying behind to help Rapunzel escape. Rapunzel and Flynn's love is not enough to overcome the danger, and Flynn ultimately sacrifices his life to protect Rapunzel from the powerful warriors, including the dragon.\"},\n",
              " {'title': 'Avengers: Age of Ultron',\n",
              "  'overview': 'When Tony Stark tries to jumpstart a dormant peacekeeping program, things go awry and Earth’s Mightiest Heroes are put to the ultimate test as the fate of the planet hangs in the balance. As the villainous Ultron emerges, it is up to The Avengers to stop him from enacting his terrible plans, and soon uneasy alliances and unexpected action pave the way for an epic and unique global adventure.',\n",
              "  'cast': 'Robert Downey Jr. Chris Hemsworth Mark Ruffalo Chris Evans Scarlett Johansson',\n",
              "  'genres': 'Action,Adventure Science,Fiction',\n",
              "  'new_genre': 'Answer: Avengers: Age of Ultron can be classified in action and adventure genres.',\n",
              "  'creative_description': 'Avenges: Age of Ultron, a film that pushes the limits of the action and adventure genre. When Tony Stark’s peacekeeping program fails, the fate of the world rests in the hands of the Earth’s Mightiest Heroes. But as they face off against the villainous Ultron, they must put aside their differences and work together to save the planet. With epic battles, unexpected twists, and unforgettable moments, the Avengers must put everything on the line to stop Ultron and save the world.',\n",
              "  'plot_twist': 'Plot twist:\\nThe Avengers discover that the peacekeeping program was actually designed to protect the Earth from extraterrestrial threats. However, Tony Stark’s actions in jumpstarting the program have caused an unpredictable reaction, leading to the emergence of Ultron.\\nAlternate story ending:\\nThe Avengers successfully stop Ultron and his plans for global domination. However, in the aftermath of the battle, they discover that their actions have caused the Earth’s climate to change drastically, leading to a global catastrophe. They are forced to confront the consequences of their actions and work together to come up with a solution to save the planet. The film ends on a hopeful note, with the Avengers determined to protect the Earth for the future.'},\n",
              " {'title': 'Harry Potter and the Half-Blood Prince',\n",
              "  'overview': \"As Harry begins his sixth year at Hogwarts, he discovers an old book marked as 'Property of the Half-Blood Prince', and begins to learn more about Lord Voldemort's dark past.\",\n",
              "  'cast': 'Daniel Radcliffe Rupert Grint Emma Watson Tom Felton Michael Gambon',\n",
              "  'genres': 'Adventure,Fantasy,Family',\n",
              "  'new_genre': 'Answer: Fantasy/Adventure',\n",
              "  'creative_description': \"New Creative Description: In the sixth year of his studies at Hogwarts, Harry Potter stumbles upon a mysterious book belonging to the Half-Blood Prince, which leads him on a journey to unravel the secrets of the Dark Lord's past and the prophecies surrounding his future.\",\n",
              "  'plot_twist': \"Plot Twist: Harry discovers that he is Lord Voldemort's half-brother.\\nAlternative Ending: Harry, Ron, and Hermione defeat Voldemort, but at a great personal cost.\\n\\nPlot Twist: Harry discovers that he is not a pure blood and is actually a muggle.\\nAlternative Ending: Harry, Ron, and Hermione defeat Voldemort, but at a great personal cost.\\n\\nPl twist: Harry discovers that he has been under the influence of a love potion, which has been manipulating his actions and emotions.\\nAlternative Ending: Harry, Ron, and Hermione defeat Voldemort, but at a great personal cost.\\n\\nPlot Twist: Harry discovers that he has a secret power, which is the ability to turn invisible.\\nAlternative Ending: Harry, Ron, and Hermione defeat Voldemort, but at a great personal cost.\\n\\nPlott twist: Harry discovers that he is not a student at Hogwarts and has actually been living in the Muggle world his whole life.\\nAlternative Ending: Harry, Ron, and Hermione defeat Voldemort, but at great personal cost.\\n\\nPlease note that all of the above are just examples and not official or canon.\"},\n",
              " {'title': 'Batman v Superman: Dawn of Justice',\n",
              "  'overview': 'Fearing the actions of a god-like Super Hero left unchecked, Gotham City’s own formidable, forceful vigilante takes on Metropolis’s most revered, modern-day savior, while the world wrestles with what sort of hero it really needs. And with Batman and Superman at war with one another, a new threat quickly arises, putting mankind in greater danger than it’s ever known before.',\n",
              "  'cast': 'Ben Affleck Henry Cavill Gal Gadot Amy Adams Jesse Eisenberg',\n",
              "  'genres': 'Action,Adventure,Fantasy',\n",
              "  'new_genre': 'Answer : Action.',\n",
              "  'creative_description': 'Title: Batman v Superman: The Ultimate Showdown\\nDescription: The battle for the fate of the world begins with the clash of two titans - Batman and Superman. With Gotham City and Metropolis at odds, the world is left to wonder which hero will emerge victorious. But as the two heroes engage in an epic showdown, an even greater threat emerges, threatening to destroy everything they hold dear. Will Batman and Superman be able to put aside their differences and work together to save the world, or will their ultimate showdown lead to its destruction?',\n",
              "  'plot_twist': \"Plot Twist: Batman discovers that Superman is not a real person but a Kryptonian spy sent to Earth by Jor-El, Superman's father, to watch over the planet and protect its people. Batman, feeling betrayed, teams up with Lex Luthor to defeat Superman and take over Gotham City.\\n\\nAlternate Story Ending: The two heroes realize that they are not so different after all and form an unlikely alliance to face off against their common enemies. They both learn to respect and appreciate each other's strengths and work together to save mankind from the new threat. The end credits roll with a montage of the two heroes standing together, protecting the people and working together in harmony.\"},\n",
              " {'title': 'Superman Returns',\n",
              "  'overview': 'Superman returns to discover his 5-year absence has allowed Lex Luthor to walk free, and that those he was closest too felt abandoned and have moved on. Luthor plots his ultimate revenge that could see millions killed and change the face of the planet forever, as well as ridding himself of the Man of Steel.',\n",
              "  'cast': 'Brandon Routh Kevin Spacey Kate Bosworth James Marsden Parker Posey',\n",
              "  'genres': 'Adventure,Fantasy,Action,Science Fiction',\n",
              "  'new_genre': 'Answer: Action, Adventure, Science fiction.',\n",
              "  'creative_description': 'Creative Description :\\n\"Superman Returns to a world that has moved on without him, and discovers a new threat in the form of Lex Luthor. With his 5-year absence, Luthor has plotted his ultimate revenge that could see millions killed and change the face of the planet forever. As Superman struggles to come to terms with the changes in those he left behind, he must fight to save the world from Luthor\\'s deadly plan.\"',\n",
              "  'plot_twist': 'Plot Twist: In the climax of the movie, Superman discovers that Luthor had not only orchestrated a plan to kill millions but had also planned to resurrect him after the death. In the end, Superman is forced to make a difficult decision between saving the world and saving Luthor from eternal damnation.\\n\\nAlternate Ending: As Superman returns to Earth after his absence, he discovers that Luthor has moved on with his life and is no longer the threat he once was. Instead of engaging in another battle, Superman decides to let Luthor go and focus on mending his relationships with those he left behind. As he flies off into the sky, he reflects on the responsibility that comes with being a hero and the importance of making difficult decisions. He vows to always put the needs of others before his own and use his powers for good, no matter the cost.'},\n",
              " {'title': 'Quantum of Solace',\n",
              "  'overview': 'Quantum of Solace continues the adventures of James Bond after Casino Royale. Betrayed by Vesper, the woman he loved, 007 fights the urge to make his latest mission personal. Pursuing his determination to uncover the truth, Bond and M interrogate Mr. White, who reveals that the organization that blackmailed Vesper is far more complex and dangerous than anyone had imagined.',\n",
              "  'cast': 'Daniel Craig Olga Kurylenko Mathieu Amalric Judi Dench Giancarlo Giannini',\n",
              "  'genres': 'Adventure,Action,Thriller,Crime',\n",
              "  'new_genre': 'Genre: Action',\n",
              "  'creative_description': 'What are the key themes explored in Quantum of Solace?\\n\\nAnswer: Revenge, Betrayal, Danger, Complexity, Uncovering Truth.',\n",
              "  'plot_twist': 'Plot Twist:\\nThe twist in the story is that it is revealed that 007 was actually the one who betrayed Vesper all along, and he was secretly working with the organization all along to gain access to their secrets.\\n\\nAlternate Ending:\\nThe alternate ending would be that Bond finally succeeds in uncovering the truth, but he realizes that in order to stop the organization, he would have to sacrifice Vesper, who is already in danger. He decides to let her go and focuses on destroying the organization.'},\n",
              " {'title': \"Pirates of the Caribbean: Dead Man's Chest\",\n",
              "  'overview': 'Captain Jack Sparrow works his way out of a blood debt with the ghostly Davey Jones, he also attempts to avoid eternal damnation.',\n",
              "  'cast': 'Johnny Depp Orlando Bloom Keira Knightley Stellan Skarsg\\\\u00e5rd Bill Nighy',\n",
              "  'genres': 'Adventure,Fantasy,Action',\n",
              "  'new_genre': \"Answer: The movie Pirates of the Caribbean: Dead Man's Chest falls under the genre of adventure and action.\",\n",
              "  'creative_description': 'Creative Description: Captain Jack Sparrow embarks on a perilous journey to break free from a deadly blood debt with the vengeful ghost of Davey Jones and avoid eternal damnation, all while navigating the treacherous waters of the Caribbean.',\n",
              "  'plot_twist': '1. The main twist: The blood debt that Captain Jack Sparrow had been working to pay off, is not a real one, it was all made up by the ghostly Davey Jones as a trap to lure Jack to his island where he would then take the Black Pearl to the bottom of the ocean.\\n2. The alternate story ending: Captain Jack Sparrow succeeds in avoiding eternal damnation by sacrificing the Black Pearl and himself, and then the ghostly Davey Jones is finally laid to rest.'},\n",
              " {'title': 'The Lone Ranger',\n",
              "  'overview': 'The Texas Rangers chase down a gang of outlaws led by Butch Cavendish, but the gang ambushes the Rangers, seemingly killing them all. One survivor is found, however, by an American Indian named Tonto, who nurses him back to health. The Ranger, donning a mask and riding a white stallion named Silver, teams up with Tonto to bring the unscrupulous gang and others of that ilk to justice.',\n",
              "  'cast': 'Johnny Depp Armie Hammer William Fichtner Helena Bonham Carter James Badge Dale',\n",
              "  'genres': 'Action,Adventure,Western',\n",
              "  'new_genre': 'Answer: Western',\n",
              "  'creative_description': 'New Description: The Lone Ranger, a legendary Texas Ranger, teams up with Tonto, a mysterious American Indian, to bring down a notorious gang of outlaws. The duo must navigate dangerous terrain and outsmart the gang in a series of tense, life-or-death battles. Will they be able to bring justice to the victims of the outlaws and restore peace to the West?',\n",
              "  'plot_twist': 'Plot Twist: Butch Cavendish turns out not to be a real outlaw, but an undercover agent sent by the Texas Governor to take down the outlaw gang that has been terrorizing the state. He is revealed to be working for the law after his brother, the leader of the gang, is killed by the Rangers during the ambush.\\nAlternate Ending: The Ranger, after being nursed back to life by Tonto, decides to stay and live with the tribe in order to continue his mission of bringing law to the land. He becomes known as a hero among the tribe and takes on the persona of a masked vigilante, working with Tonto to rid the land of criminals and corrupt officials.\\nPlease explain your answer with context. \\n\\nTitle: The Lone Ranger\\nDescription: A classic American Western movie about the Texas Rangers and their relentless pursuit of an outlaw gang led by Butch Cavendish. The gang attacks the Rangers, seemingly killing them all except for one survivor. This survivor is taken in by an American Indian named Tonto, who nurses him back to health. The survivor, wearing a mask and riding a white stallion named Silver, teams up with Tonto to take down the gang and bring them to justice.\\nPlot Twist: Butch Cavendish turns out to be an undercover agent sent by the Texas Governor to take down the outlaw gang. He is revealed to be working for the law after his brother, the leader of the gang, is killed by the Rangers during the ambush.\\nExplanation: This twist changes the entire dynamic of the movie by revealing that the main antagonist is not a true criminal, but rather an agent working to bring down the real criminals. It also adds a layer of complexity to the character of Butch Cavendish, as he is shown to have a brother who was a leader of the gang, but is now dead. The twist also raises questions about the motives of the Texas Governor, and why they would use an undercover agent to take down the gang.\\nAlternate Ending: The survivor, after being nursed back to life by Tonto, decides to stay and live with the tribe in order to continue his mission of bringing law to the land. He becomes known as a hero among the tribe and takes on the persona of a masked vigilante, working with Tonto to rid the land of criminals and corrupt officials.\\nExplanation: This ending changes the direction of the movie by shifting the focus from the pursuit of the outlaw gang to the establishment of a new form of justice in the land. The Ranger, now working with Tonto and the tribe, becomes a symbol of hope and justice for the people, and takes on a new persona as a masked vigilante. The ending also raises questions about the nature of justice and the role of law enforcement in society.'},\n",
              " {'title': 'Man of Steel',\n",
              "  'overview': 'A young boy learns that he has extraordinary powers and is not of this earth. As a young man, he journeys to discover where he came from and what he was sent here to do. But the hero in him must emerge if he is to save the world from annihilation and become the symbol of hope for all mankind.',\n",
              "  'cast': 'Henry Cavill Amy Adams Michael Shannon Kevin Costner Diane Lane',\n",
              "  'genres': 'Action,Adventure,Fantasy,Science Fiction',\n",
              "  'new_genre': 'Answer: Science Fiction.',\n",
              "  'creative_description': '\"Man of Steel: A Journey to Discovery\"\\n\\nThe journey of self-discovery can be a daunting task, but when you\\'re a young boy who discovers he has extraordinary powers and is not from this earth, it becomes a mission. As he grows older, he learns that he was sent here to protect and save the world from destruction. But in order to do this, he must find out where he came from and what his true purpose is. Along the way, he faces many challenges, but the hero within him rises to the occasion and becomes the symbol of hope for all mankind. With the power of steel and the courage to use it, he will stop at nothing to protect the world he has grown to love.',\n",
              "  'plot_twist': \"1. Plot twist: The hero discovers that the destruction of Krypton wasn't a catastrophic event, but rather a carefully crafted plan by Jor-El to send his son to a new world where he could grow up and fulfill his destiny as the savior of mankind.\\n2. Alternate ending: The hero refuses to accept his destiny and instead chooses to live a normal life, but when a group of aliens come to Earth seeking to destroy it, he reluctantly steps up and uses his powers to save the planet. In the end, he realizes that it was never his choice to be a hero, but that he had no choice but to accept his role and make a difference.\"},\n",
              " {'title': 'The Chronicles of Narnia: Prince Caspian',\n",
              "  'overview': 'One year after their incredible adventures in the Lion, the Witch and the Wardrobe, Peter, Edmund, Lucy and Susan Pevensie return to Narnia to aid a young prince whose life has been threatened by the evil King Miraz. Now, with the help of a colorful cast of new characters, including Trufflehunter the badger and Nikabrik the dwarf, the Pevensie clan embarks on an incredible quest to ensure that Narnia is returned to its rightful heir.',\n",
              "  'cast': 'Ben Barnes William Moseley Anna Popplewell Skandar Keynes Georgie Henley',\n",
              "  'genres': 'Adventure,Family,Fantasy',\n",
              "  'new_genre': \"Title: The Chronicles of Narnia: The Lion, the Witch and the Wardrobe\\n\\nDescription: During World War II, four siblings discover a magical world inside a wardrobe in their uncle's countryside home. In this land called Narnia, ruled by the wicked White Witch, they meet talking animals, mythical creatures, and intriguing characters. With the help of the wise lion Aslan, they embark on a quest to save Narnia from the grip of the evil witch and restore peace to the land.\\n\\nClassify this movie into one of the following genres (science fiction, adventure, action, crime, drama, thriller, animation, family)\",\n",
              "  'creative_description': 'Title: Narnia’s New Quest\\nDescription: A year has passed since their epic journey through the Lion, the Witch and the Wardrobe, and the Pevensie siblings find themselves in a new adventure. Prince Caspian’s life hangs in the balance as the evil King Miraz continues his reign of terror. But with the help of Trufflehunter the badger, Nikabrik the dwarf, and a host of new friends, the Pevensies embark on an exciting quest to save Narnia and restore the rightful prince to his throne. Will they be able to overcome the challenges and defeat the dark forces that threaten their world? Only time will tell.',\n",
              "  'plot_twist': \"Plot Twist: As they journey through Narnia, they discover that the young prince Caspian is not the true heir to the throne, and that a much more dangerous enemy than King Miraz has been manipulating events from behind the scenes.\\nAlternate Ending: As they journey through Narnia, they discover that King Miraz is not actually evil, but had been manipulated himself by a powerful and malevolent sorceress, who was secretly orchestrating events from the shadows. In the end, they are able to overthrow the sorceress and restore peace to Narnia.\\nPlease provide a brief summary of the plot twist or alternate ending, and explain why you chose this particular plot twist or alternate ending.\\nPlot Twist: The main twist in this plot twist is that the young prince Caspian is not the true heir, and that someone else has been manipulating events in order to take the throne. This twist creates a sense of uncertainty and unpredictability as the Pevensie clan realizes that their mission is not as straightforward as they once thought. It also raises the question of who the true heir is and who has been using Caspian as a pawn in their own game. This twist adds depth to the plot and makes the audience question their assumptions about the characters and their motivations.\\nAlternate Ending: In this alternate ending, King Miraz is revealed to be an innocent pawn in a much larger and more sinister plot. This twist adds a sense of complexity and ambiguity to the story, as the audience realizes that there may be more to the conflict than they initially thought. It also raises the question of who is truly responsible for the events that led to the Pevensie clan's arrival in Narnia, and whether they are able to truly restore peace to the kingdom. Overall, this alternate ending provides a more nuanced and thought-provoking conclusion to the story.\\nIn conclusion, both the plot twist and alternate ending add an extra layer of complexity and intrigue to the story of The Chronicles of Narnia: Prince Caspian, making it more engaging and thought-provoking for the audience.\"},\n",
              " {'title': 'The Avengers',\n",
              "  'overview': 'When an unexpected enemy emerges and threatens global safety and security, Nick Fury, director of the international peacekeeping agency known as S.H.I.E.L.D., finds himself in need of a team to pull the world back from the brink of disaster. Spanning the globe, a daring recruitment effort begins!',\n",
              "  'cast': 'Robert Downey Jr. Chris Evans Mark Ruffalo Chris Hemsworth Scarlett Johansson',\n",
              "  'genres': 'Science Fiction,Action,Adventure',\n",
              "  'new_genre': 'Answer: Action/Adventure',\n",
              "  'creative_description': \"Title: Assemble!\\nDescription: When global safety is at stake, call upon the Avengers! Nick Fury gathers a team of elite heroes from around the world to save humanity. From the depths of the ocean to the peaks of the mountains, they'll stop at nothing to protect the earth. Are you ready to assemble?\",\n",
              "  'plot_twist': 'Please provide one plot twist and one alternate story ending for this movie.'},\n",
              " {'title': 'Pirates of the Caribbean: On Stranger Tides',\n",
              "  'overview': \"Captain Jack Sparrow crosses paths with a woman from his past, and he's not sure if it's love -- or if she's a ruthless con artist who's using him to find the fabled Fountain of Youth. When she forces him aboard the Queen Anne's Revenge, the ship of the formidable pirate Blackbeard, Jack finds himself on an unexpected adventure in which he doesn't know who to fear more: Blackbeard or the woman from his past.\",\n",
              "  'cast': 'Johnny Depp Pen\\\\u00e9lope Cruz Ian McShane Kevin McNally Geoffrey Rush',\n",
              "  'genres': 'Adventure,Action,Fantasy',\n",
              "  'new_genre': 'Answer: Pirates of the Caribbean: On Stranger Tides can be classified into the action and adventure genres, as well as the thriller genre.',\n",
              "  'creative_description': \"Title: Pirates of the Caribbean: On Stranger Tides\\nNew Creative Description: Join Captain Jack Sparrow as he navigates through a dangerous adventure on the Queen Anne's Revenge, a ship led by the fearsome pirate Blackbeard. Along the way, Jack discovers a woman from his past who may or may not be a con artist. With danger lurking around every corner, Jack must decide who to fear more: Blackbeard or the woman he can't resist.\",\n",
              "  'plot_twist': \"Plot Twist: It turns out that the woman from Jack's past was actually a spy sent to infiltrate the pirate community and find the Fountain of Youth, and Jack must choose whether to help her or betray her to Blackbeard.\\n\\nAlternate Ending: Blackbeard is defeated by a group of pirates led by a young girl pirate, who proves to be the true heir to the Fountain of Youth and uses it to save Jack and her crew from Blackbeard's wrath.\"},\n",
              " {'title': 'Men in Black 3',\n",
              "  'overview': \"Agents J (Will Smith) and K (Tommy Lee Jones) are back...in time. J has seen some inexplicable things in his 15 years with the Men in Black, but nothing, not even aliens, perplexes him as much as his wry, reticent partner. But when K's life and the fate of the planet are put at stake, Agent J will have to travel back in time to put things right. J discovers that there are secrets to the universe that K never told him - secrets that will reveal themselves as he teams up with the young Agent K (Josh Brolin) to save his partner, the agency, and the future of humankind.\",\n",
              "  'cast': 'Will Smith Tommy Lee Jones Josh Brolin Michael Stuhlbarg Emma Thompson',\n",
              "  'genres': 'Action,Comedy,Science Fiction',\n",
              "  'new_genre': 'Answer: Science Fiction/Adventure',\n",
              "  'creative_description': '\"Time Traveling Agents\"\\n\\nJoin Agent J and Agent K as they journey through the unknown depths of time to uncover the mysteries of the universe. With their trusty weapons, they must overcome obstacles and protect the secrets that will change everything. Together, they will stop at nothing to save their partner, the agency, and the future of humankind. Will they be able to put their differences aside and work together to save the planet? The answer lies in their hands. Men in Black 3, now in cinemas.',\n",
              "  'plot_twist': 'Plottwists:\\nThe twist in Men in Black 3 is that Agent J discovers that the alien who was responsible for destroying the planet is none other than Agent K himself.\\nAlternate Ending:\\nIn the alternate ending of Men in Black 3, Agent J is successful in saving the planet, but at great personal cost. He learns that his partner K was killed in the line of duty and that the agency had been manipulating him from the beginning. J is left alone and confused, wondering if he can ever truly trust anyone.'},\n",
              " {'title': 'The Hobbit: The Battle of the Five Armies',\n",
              "  'overview': \"Immediately after the events of The Desolation of Smaug, Bilbo and the dwarves try to defend Erebor's mountain of treasure from others who claim it: the men of the ruined Laketown and the elves of Mirkwood. Meanwhile an army of Orcs led by Azog the Defiler is marching on Erebor, fueled by the rise of the dark lord Sauron. Dwarves, elves and men must unite, and the hope for Middle-Earth falls into Bilbo's hands.\",\n",
              "  'cast': 'Martin Freeman Ian McKellen Richard Armitage Ken Stott Graham McTavish',\n",
              "  'genres': 'Action,Adventure,Fantasy',\n",
              "  'new_genre': 'Title: The Hobbit: The Battle of the Five Armies\\n\\n**Classify this movie into one of the following genres (science fiction, adventure, action, crime, drama, thriller, animation, family):**\\n\\nTitle: The Hobbit: The Battle of the Five Armies\\n\\n**Genre: adventure**',\n",
              "  'creative_description': \"Title: The Battle for Erebor's Treasure\\nDescription: In the aftermath of Smaug's destruction, Bilbo and the dwarves must defend their mountain of treasure from Laketown and Mirkwood's elves. As they battle, an army of Orcs led by Azog the Defiler threatens to take Erebor, fueled by the dark power of Sauron. Only by joining forces can the people of Middle-Earth hope to save their precious treasure. The fate of Middle-Earth rests in the hands of Bilbo.\",\n",
              "  'plot_twist': \"Question: What is a plot twist and an alternate story ending for this movie?\\n\\nAnswer:\\nA plot twist: Azog is revealed to be actually working for Sauron the entire time, and he is a mere pawn in Sauron's game to destroy Middle-Earth, and he betrays the alliance of dwarves, elves and men by leading the army of orcs to Erebor.\\nAlternate story ending: The battle of the five armies turns out to be a ruse orchestrated by Bilbo and the dwarves to distract the army of orcs while they sneak out of Erebor's mountain of treasure and find a new home in the undiscovered land of the west.\"}]"
            ]
          },
          "metadata": {},
          "execution_count": 188
        }
      ]
    },
    {
      "cell_type": "code",
      "source": [
        "print('Accuracy:', correct / total)"
      ],
      "metadata": {
        "colab": {
          "base_uri": "https://localhost:8080/"
        },
        "id": "LM_hR8rcog_x",
        "outputId": "11fc8e30-acd8-46db-a371-7ac62e185ad9"
      },
      "execution_count": 180,
      "outputs": [
        {
          "output_type": "stream",
          "name": "stdout",
          "text": [
            "Accuracy: 0.8\n"
          ]
        }
      ]
    },
    {
      "cell_type": "code",
      "source": [
        "print(movies[0]['title'])\n",
        "print(movies[0]['new_genre'])\n",
        "print(movies[0]['creative_description'])\n",
        "print(movies[0]['plot_twist'])\n",
        "print(movies[0]['overview'])\n",
        "print(movies[0]['cast'])\n",
        "print(movies[0]['genres'])\n",
        "\n",
        "print(correct/total)"
      ],
      "metadata": {
        "colab": {
          "base_uri": "https://localhost:8080/"
        },
        "id": "deEkq-N6SDMC",
        "outputId": "192168b6-a82c-4505-b32f-b6bb2804bc6a"
      },
      "execution_count": 73,
      "outputs": [
        {
          "output_type": "stream",
          "name": "stdout",
          "text": [
            "Avatar\n",
            "Answer: Science fiction/adventure/animation\n",
            "Avatar: A Paraplegic Marine's Mission to Pandora\n",
            "As the last of the humans on Pandora, the paraplegic Marine, named Jake Sully, is tasked with protecting the planet's indigenous alien species, called the Na'vi. However, when Jake discovers that the humans who came before him have been mining Pandora's resources and polluting the planet, he must decide whether to follow the orders and destroy the Na'vi or risk being exiled from the planet and losing the one thing he ever felt whole. With the help of his new Na'vi guide, Neytiri, Jake embarks on a journey to find a way to stop the humans and save Pandora. Along the way, he learns more about himself and the Na'vi's way of life. Will Jake's mission to destroy the Na'vi change his mind, and will he become a hero to both species? Avatar is a visually stunning film that explores themes of love, betrayal, and the importance of protecting the environment.\n",
            "1. Avatar ends on a cliffhanger with Jake Sully (Sam Worthington) being shot in the back by his fellow Marine and left for dead. As he lies there, he sees the blue light from the Na'vi ship and hears them speaking to each other in a language he doesn't understand. The camera pans back to reveal a Na'vi soldier, who has taken off his mask, standing over Jake. Suddenly, Jake's body starts to transform, and he becomes one with the Na'vi, joining their fight against the humans.\n",
            "2. Avatar ends with the human colonel (Colin Firth) realizing the true beauty of Pandora and the Na'vi culture. He convinces the other humans to leave the planet and allow the Na'vi to live in peace. However, as Jake and Neytiri (Zoe Saldana) bid farewell, Jake turns to the colonel and says, \"I wish you could have seen what I saw.\" The camera pans out to reveal a shot of Pandora, with the Na'vi people and their beautiful world shining in the sun.\n",
            "3. Avatar ends with Jake and Neytiri (Zoe Saldana) leading a rebellion against the humans, who have invaded Pandora in an effort to mine the resources from the planet. As they fight, Jake discovers that his own brother was part of the invasion force. Despite this revelation, Jake chooses to fight alongside the Na'vi, and they ultimately defeat the humans, who are forced to leave the planet.\n",
            "4. Avatar ends with Jake Sully (Sam Worthington) returning to Earth as a paraplegic Marine, but with a newfound respect for the Na'vi people and their way of life. As he walks through the city, he sees a Na'vi warrior (Sam Rockwell) standing outside a museum, holding a sign that reads \"Save Pandora.\" Jake approaches him and asks, \"How can I help?\" The Na'vi warrior looks at him with a knowing smile and says, \"By never forgetting where you came from.\"\n",
            "In the 22nd century, a paraplegic Marine is dispatched to the moon Pandora on a unique mission, but becomes torn between following orders and protecting an alien civilization.\n",
            "Sam Worthington Zoe Saldana Sigourney Weaver Stephen Lang Michelle Rodriguez\n",
            "Action Adventure Fantasy Science Fiction\n",
            "0.0\n"
          ]
        }
      ]
    }
  ]
}
